{
  "nbformat": 4,
  "nbformat_minor": 0,
  "metadata": {
    "colab": {
      "provenance": []
    },
    "kernelspec": {
      "name": "python3",
      "display_name": "Python 3"
    },
    "language_info": {
      "name": "python"
    }
  },
  "cells": [
    {
      "cell_type": "markdown",
      "source": [
        "#  Python - Data Structure\n",
        "# Theoretical Answers:"
      ],
      "metadata": {
        "id": "Y3m2D_x6r-XP"
      }
    },
    {
      "cell_type": "markdown",
      "source": [
        "1. What are data structures, and why are they important?\n",
        "  - Data structures are basically the “arrangements” or “formats” we use to store and organize data so we can work with it effectively. In real life, imagine sorting clothes — if you dump them all in one pile, finding a shirt will take forever. But if you organize them into drawers (shirts, pants, jackets), finding what you need becomes quick. That’s exactly what data structures do in programming. They’re important because they can literally make the difference between a program that runs instantly and one that takes forever. For example, searching for a number in a sorted list is way faster than in a random pile."
      ],
      "metadata": {
        "id": "RwAorDFcsKMw"
      }
    },
    {
      "cell_type": "markdown",
      "source": [
        "2. Explain the difference between mutable and immutable data types with examples.\n",
        "  - **Mutable**: Can be changed after creation. Think of it like a whiteboard — you can write, erase, and rewrite.\n",
        "     - Example: Python lists.\n",
        "             my_list = [1, 2, 3]\n",
        "             my_list.append(4)  # Now it's [1, 2, 3, 4]\n",
        "  - **Immutable**: Once created, it’s locked forever. Think of it like a printed book — you can’t erase the ink.\n",
        "      - Example: Python tuples.\n",
        "             my_tuple = (1, 2, 3)\n",
        "             # Can't directly change my_tuple\n",
        "  - This matters because immutability prevents accidental changes and makes the program more predictable, while mutability gives flexibility when you do want changes.\n",
        "\n",
        "\n"
      ],
      "metadata": {
        "id": "l9NR6kZmunJH"
      }
    },
    {
      "cell_type": "markdown",
      "source": [
        "3. What are the main differences between lists and tuples in Python?\n",
        "  - Lists and tuples are like siblings with different personalities:\n",
        "\n",
        "     - Lists are flexible and mutable — you can add, remove, and change elements anytime. Perfect for a shopping cart that changes often.\n",
        "\n",
        "     - Tuples are fixed and immutable — once created, they stay the same. Perfect for storing things like a date of birth, which never changes.\n",
        "     - Performance-wise, tuples are a bit faster because Python doesn’t have to allow changes. Syntax-wise, lists use [] while tuples use ()."
      ],
      "metadata": {
        "id": "p8gw1WGdvuUr"
      }
    },
    {
      "cell_type": "markdown",
      "source": [
        "4. Describe how dictionaries store data.\n",
        "  - Dictionaries store data as key-value pairs, where each key is unique and maps directly to its associated value. Instead of relying on numeric indexes like lists, dictionaries use a hash table internally. The hash table converts the key into a hash code, which determines where in memory the value is stored. This allows dictionaries to retrieve, insert, and update values in constant time (O(1) on average), regardless of how large the dictionary is. This structure makes dictionaries especially useful for scenarios requiring quick lookups by name, ID, or any other unique identifier."
      ],
      "metadata": {
        "id": "7A8a_6RcwpsO"
      }
    },
    {
      "cell_type": "markdown",
      "source": [
        "5. Why might you use a set instead of a list in Python?\n",
        "  - You would use a set when you want to store unique values and need quick checks for membership. Sets automatically remove duplicates, ensuring every element appears only once. They also offer faster membership tests than lists because they are implemented using hash tables. For example, if you have a list of registered emails and want to ensure no duplicate registrations, converting it to a set guarantees uniqueness without manual checking."
      ],
      "metadata": {
        "id": "mc6OgBg2x9U4"
      }
    },
    {
      "cell_type": "markdown",
      "source": [
        "6. What is a string in Python, and how is it different from a list?\n",
        " - A string in Python is an ordered sequence of characters used to store and manipulate text. Strings are immutable, meaning that once created, their contents cannot be changed. A list, on the other hand, is an ordered collection that can hold elements of any type — numbers, strings, booleans, or even other lists — and is mutable, allowing modifications after creation. While both are sequences and support indexing and slicing, lists are more flexible for general-purpose storage, and strings are specialized for text handling"
      ],
      "metadata": {
        "id": "vGMV-lHNylJv"
      }
    },
    {
      "cell_type": "markdown",
      "source": [
        "7. How do tuples ensure data integrity in Python?\n",
        " - Tuples ensure data integrity by being immutable. Once a tuple is created, the values it contains cannot be changed, removed, or added to. This immutability prevents accidental changes and ensures that the data remains constant throughout the program’s execution. Tuples are particularly useful for storing fixed data, such as dates, configuration settings, or reference values that must remain unchanged."
      ],
      "metadata": {
        "id": "3poJkw5Wy5Iz"
      }
    },
    {
      "cell_type": "markdown",
      "source": [
        "8. What is a hash table, and how does it relate to dictionaries in Python?\n",
        " - A hash table is a data structure that stores data in key-value pairs and uses a hash function to compute the location of each value based on its key. This hashing process enables near-instant retrieval, insertion, and deletion of data. In Python, dictionaries are built using hash tables. When you provide a key to a dictionary, Python calculates the hash of the key, finds the memory location, and retrieves the value directly without scanning through all the elements."
      ],
      "metadata": {
        "id": "pVBKa0DAzQqn"
      }
    },
    {
      "cell_type": "markdown",
      "source": [
        "9. Can lists contain different data types in Python?\n",
        " - Yes, Python lists can store elements of different data types in the same collection. A single list can contain integers, strings, floating-point numbers, booleans, other lists, or even custom objects.\n",
        "  - ***Example:***\n",
        "         mixed_list = [1, \"apple\", 3.14, True, [10, 20]]\n",
        "  - While this flexibility is powerful, it can also make code harder to manage if not used carefully.\n"
      ],
      "metadata": {
        "id": "EBF4ZEbEzm9y"
      }
    },
    {
      "cell_type": "markdown",
      "source": [
        "10. Explain why strings are immutable in Python.\n",
        "  - Strings are immutable for several reasons:\n",
        "\n",
        "     1) Performance: Immutable objects can be optimized in memory since they don’t change.\n",
        "\n",
        "     2) Security: Immutability prevents data from being modified unexpectedly in different parts of a program.\n",
        "\n",
        "     3) Hashing: Immutable objects can be used as keys in dictionaries, which require objects to remain constant.\n",
        "     - When you “modify” a string, Python actually creates a new string rather than changing the original one."
      ],
      "metadata": {
        "id": "J_9Zz9vg0LSQ"
      }
    },
    {
      "cell_type": "markdown",
      "source": [
        "11. What advantages do dictionaries offer over lists for certain tasks?\n",
        "  - Dictionaries allow for constant-time (O(1)) access to values by their keys, whereas lists require searching through elements (O(n)) unless you know the index. Keys in dictionaries can be descriptive, making code more readable and maintainable. This makes dictionaries better for tasks involving lookups by name, ID, or other identifiers, such as storing and retrieving user profiles."
      ],
      "metadata": {
        "id": "G_TVirRq0uF-"
      }
    },
    {
      "cell_type": "markdown",
      "source": [
        "12. Describe a scenario where using a tuple would be preferable over a list.\n",
        "  - A tuple is preferable when storing fixed information that must remain constant. For example, storing a country’s latitude and longitude as (28.6139, 77.2090) ensures that these values cannot be altered by mistake, preserving accuracy and preventing data corruption."
      ],
      "metadata": {
        "id": "57LhX7Q11FFP"
      }
    },
    {
      "cell_type": "markdown",
      "source": [
        "13. How do sets handle duplicate values in Python?\n",
        " - Sets automatically remove duplicate values. When you add an element to a set, Python checks if it already exists; if it does, the set ignores it. This ensures all elements in a set are unique without requiring additional checks or manual filtering."
      ],
      "metadata": {
        "id": "4nceugz01WyF"
      }
    },
    {
      "cell_type": "markdown",
      "source": [
        "14. How does the “in” keyword work differently for lists and dictionaries?\n",
        " - For lists, the \"in\" keyword checks if a given value exists within the list. For dictionaries, it checks if a given key exists in the dictionary. To check if a value exists in a dictionary, you must explicitly search through the dictionary’s values."
      ],
      "metadata": {
        "id": "4i-0HF551h7_"
      }
    },
    {
      "cell_type": "markdown",
      "source": [
        "15. Can you modify the elements of a tuple? Explain why or why not.\n",
        " - No, tuples are immutable, so their elements cannot be changed, added, or removed after the tuple is created. This immutability ensures the integrity of the data stored within the tuple, making them suitable for constant values.\n",
        "\n"
      ],
      "metadata": {
        "id": "zrY1u3f8133y"
      }
    },
    {
      "cell_type": "markdown",
      "source": [
        "16. What is a nested dictionary, and give an example of its use case?\n",
        "  - A nested dictionary is a dictionary that contains another dictionary as one or more of its values. It is useful for representing hierarchical or structured data.\n",
        "      - ***Example:***\n",
        "              students = {\n",
        "                 \"101\": {\"name\": \"Nithin\", \"age\": 18},\n",
        "                 \"102\": {\"name\": \"Varma\", \"age\": 19}\n",
        "              }\n",
        "    - This structure is common in data returned from APIs or when modeling real-world entities with multiple attributes"
      ],
      "metadata": {
        "id": "PGIxFwW62OOD"
      }
    },
    {
      "cell_type": "markdown",
      "source": [
        "17. Describe the time complexity of accessing elements in a dictionary.\n",
        "  - In Python, getting a value from a dictionary using its key is extremely fast — it’s generally O(1) time complexity, which means the lookup time stays almost the same no matter how many items the dictionary has. This is because dictionaries use a hash table under the hood. The key is processed by a hash function, which quickly figures out exactly where the value is stored in memory, instead of searching through every item one by one."
      ],
      "metadata": {
        "id": "r-VcnZB92-6c"
      }
    },
    {
      "cell_type": "markdown",
      "source": [
        "18. In what situations are lists preferred over dictionaries?\n",
        "  - Lists are better when the order of elements is important, when duplicates are allowed, or when you need to work with the data in sequence. They’re also simpler to use if you just need to access items by position rather than a specific name or label. For example, a to-do list works well as a Python list because you care about the order and don’t necessarily need unique keys for each task."
      ],
      "metadata": {
        "id": "VWkQ1ebe4D_l"
      }
    },
    {
      "cell_type": "markdown",
      "source": [
        "19. Why are dictionaries considered unordered, and how does that affect data retrieva?\n",
        "   - Dictionaries are considered unordered because their data is stored based on keys rather than positions. In older versions of Python (before 3.7), this meant you couldn’t rely on the order of items at all — the order could change unpredictably. In modern Python, dictionaries do remember the order in which items were added, but retrieval is still designed for quick access by key, not for going through items in a set sequence."
      ],
      "metadata": {
        "id": "fH06e-vy4Oby"
      }
    },
    {
      "cell_type": "markdown",
      "source": [
        "20. Explain the difference between a list and a dictionary in terms of data retrieval.\n",
        " - Lists retrieve data using a position number (index). If you don’t know the position, you have to search through the list until you find the value, which can be slower for large lists. Dictionaries retrieve data using a unique key, allowing direct access to the value without scanning other elements. This makes dictionaries better for quick lookups, while lists are better when you work with ordered sequences of items."
      ],
      "metadata": {
        "id": "CTMH6rhI4Z_A"
      }
    },
    {
      "cell_type": "markdown",
      "source": [
        "# Practical Questions"
      ],
      "metadata": {
        "id": "r7IrDAS_4lN0"
      }
    },
    {
      "cell_type": "code",
      "source": [
        "# 1. Write a code to create a string with your name and print it.\n",
        "# Creating a string variable with my name\n",
        "name = \"Nithin Varma\"\n",
        "# Printing the name\n",
        "print(name)\n"
      ],
      "metadata": {
        "colab": {
          "base_uri": "https://localhost:8080/"
        },
        "id": "D-LC0YN65LJU",
        "outputId": "96133e0c-9c17-49ed-b143-291ab11327a0"
      },
      "execution_count": 1,
      "outputs": [
        {
          "output_type": "stream",
          "name": "stdout",
          "text": [
            "Nithin Varma\n"
          ]
        }
      ]
    },
    {
      "cell_type": "code",
      "source": [
        "# 2. Write a code to find the length of the string \"Hello World\".\n",
        "# Storing the string\n",
        "text = \"Hello World\"\n",
        "# Using len() to count characters including spaces\n",
        "length = len(text)\n",
        "print(length)\n"
      ],
      "metadata": {
        "colab": {
          "base_uri": "https://localhost:8080/"
        },
        "id": "xV_mImx_7AcX",
        "outputId": "eeac6afc-0eff-4b82-acc1-7614c6316d4c"
      },
      "execution_count": 2,
      "outputs": [
        {
          "output_type": "stream",
          "name": "stdout",
          "text": [
            "11\n"
          ]
        }
      ]
    },
    {
      "cell_type": "code",
      "source": [
        "# 3. Write a code to slice the first 3 characters from the string \"Python Programming\".\n",
        "# Slicing from start to index 3 (exclusive)\n",
        "text = \"Python Programming\"\n",
        "first_three = text[:3]\n",
        "print(first_three)\n"
      ],
      "metadata": {
        "colab": {
          "base_uri": "https://localhost:8080/"
        },
        "id": "LwWpgYnJ7hG3",
        "outputId": "7481ec3e-fc9b-41cc-f37f-c428388ff8d9"
      },
      "execution_count": 3,
      "outputs": [
        {
          "output_type": "stream",
          "name": "stdout",
          "text": [
            "Pyt\n"
          ]
        }
      ]
    },
    {
      "cell_type": "code",
      "source": [
        "# 4. Write a code to convert the string \"hello\" to uppercase.\n",
        "  # Converting all characters to uppercase\n",
        "text = \"hello\"\n",
        "uppercase_text = text.upper()\n",
        "print(uppercase_text)\n"
      ],
      "metadata": {
        "colab": {
          "base_uri": "https://localhost:8080/"
        },
        "id": "cA_q1Cxe72VV",
        "outputId": "ea0d2055-303e-4d35-9275-01942b102c50"
      },
      "execution_count": 4,
      "outputs": [
        {
          "output_type": "stream",
          "name": "stdout",
          "text": [
            "HELLO\n"
          ]
        }
      ]
    },
    {
      "cell_type": "code",
      "source": [
        "# 5. # Using replace() to substitute 'apple' with 'orange'\n",
        "text = \"I like apple\"\n",
        "new_text = text.replace(\"apple\", \"orange\")\n",
        "print(new_text)\n"
      ],
      "metadata": {
        "colab": {
          "base_uri": "https://localhost:8080/"
        },
        "id": "GXiPg4sM8KY5",
        "outputId": "7b811b85-30b5-4658-a781-d51e4d4e433c"
      },
      "execution_count": 5,
      "outputs": [
        {
          "output_type": "stream",
          "name": "stdout",
          "text": [
            "I like orange\n"
          ]
        }
      ]
    },
    {
      "cell_type": "code",
      "source": [
        "# 6. Write a code to replace the word \"apple\" with \"orange\" in the string \"I like apple\"\n",
        "# Using replace() to substitute 'apple' with 'orange'\n",
        "text = \"I like apple\"\n",
        "new_text = text.replace(\"apple\", \"orange\")\n",
        "print(new_text)\n"
      ],
      "metadata": {
        "colab": {
          "base_uri": "https://localhost:8080/"
        },
        "id": "6DNQexL88XlX",
        "outputId": "add33f60-a473-4f12-aae4-c8bbbc7b1d9f"
      },
      "execution_count": 6,
      "outputs": [
        {
          "output_type": "stream",
          "name": "stdout",
          "text": [
            "I like orange\n"
          ]
        }
      ]
    },
    {
      "cell_type": "code",
      "source": [
        "# 7. Write a code to append the number 10 to the list [1, 2, 3, 4].\n",
        " # Adding a new element at the end of the list\n",
        "numbers = [1, 2, 3, 4]\n",
        "numbers.append(10)\n",
        "print(numbers)\n"
      ],
      "metadata": {
        "colab": {
          "base_uri": "https://localhost:8080/"
        },
        "id": "Zai-DoN68r-c",
        "outputId": "07407f9b-cde9-4f32-b0a2-508768aab1c9"
      },
      "execution_count": 7,
      "outputs": [
        {
          "output_type": "stream",
          "name": "stdout",
          "text": [
            "[1, 2, 3, 4, 10]\n"
          ]
        }
      ]
    },
    {
      "cell_type": "code",
      "source": [
        "# 8. Write a code to remove the number 3 from the list [1, 2, 3, 4, 5].\n",
        "# Removing the number 3 from the list\n",
        "numbers = [1, 2, 3, 4, 5]\n",
        "numbers.remove(3)\n",
        "print(numbers)\n"
      ],
      "metadata": {
        "colab": {
          "base_uri": "https://localhost:8080/"
        },
        "id": "2_0ZrVkA9FNb",
        "outputId": "c72fc949-d1a4-488c-a840-8c07b2095e91"
      },
      "execution_count": 8,
      "outputs": [
        {
          "output_type": "stream",
          "name": "stdout",
          "text": [
            "[1, 2, 4, 5]\n"
          ]
        }
      ]
    },
    {
      "cell_type": "code",
      "source": [
        "# 9. Write a code to access the second element in the list ['a', 'b', 'c', 'd'].\n",
        "# Accessing the element at index 1 (second element)\n",
        "letters = ['a', 'b', 'c', 'd']\n",
        "second_element = letters[1]\n",
        "print(second_element)\n"
      ],
      "metadata": {
        "colab": {
          "base_uri": "https://localhost:8080/"
        },
        "id": "dnsqmcfR9fI7",
        "outputId": "33376847-b8da-4996-d410-5e6ebf5a710f"
      },
      "execution_count": 9,
      "outputs": [
        {
          "output_type": "stream",
          "name": "stdout",
          "text": [
            "b\n"
          ]
        }
      ]
    },
    {
      "cell_type": "code",
      "source": [
        "# 10. Write a code to reverse the list [10, 20, 30, 40, 50].\n",
        "# Reversing the list in place\n",
        "numbers = [10, 20, 30, 40, 50]\n",
        "numbers.reverse()\n",
        "print(numbers)\n"
      ],
      "metadata": {
        "colab": {
          "base_uri": "https://localhost:8080/"
        },
        "id": "WWwXXSx09qoN",
        "outputId": "289dd426-f316-4a94-e153-c23928ceb043"
      },
      "execution_count": 10,
      "outputs": [
        {
          "output_type": "stream",
          "name": "stdout",
          "text": [
            "[50, 40, 30, 20, 10]\n"
          ]
        }
      ]
    },
    {
      "cell_type": "code",
      "source": [
        "# 11. Write a code to create a tuple with the elements 100, 200, 300 and print it.\n",
        "# Creating a tuple using parentheses\n",
        "my_tuple = (100, 200, 300)\n",
        "print(my_tuple)\n"
      ],
      "metadata": {
        "colab": {
          "base_uri": "https://localhost:8080/"
        },
        "id": "LZ-LYC4f98OH",
        "outputId": "2a7d8bfe-0316-4aaa-a620-92de276362ec"
      },
      "execution_count": 11,
      "outputs": [
        {
          "output_type": "stream",
          "name": "stdout",
          "text": [
            "(100, 200, 300)\n"
          ]
        }
      ]
    },
    {
      "cell_type": "code",
      "source": [
        "# 12. Write a code to access the second-to-last element of the tuple ('red', 'green', 'blue', 'yellow').\n",
        "# Using negative indexing to get second last element\n",
        "colors = ('red', 'green', 'blue', 'yellow')\n",
        "second_last = colors[-2]\n",
        "print(second_last)\n"
      ],
      "metadata": {
        "colab": {
          "base_uri": "https://localhost:8080/"
        },
        "id": "XZHB3e58-HYl",
        "outputId": "b38eb231-a8c7-4ec2-b2ee-9baba810a89d"
      },
      "execution_count": 12,
      "outputs": [
        {
          "output_type": "stream",
          "name": "stdout",
          "text": [
            "blue\n"
          ]
        }
      ]
    },
    {
      "cell_type": "code",
      "source": [
        "# 13. Write a code to find the minimum number in the tuple (10, 20, 5, 15).\n",
        "# Using min() to find the smallest value\n",
        "numbers = (10, 20, 5, 15)\n",
        "minimum_value = min(numbers)\n",
        "print(minimum_value)\n"
      ],
      "metadata": {
        "colab": {
          "base_uri": "https://localhost:8080/"
        },
        "id": "_L02P3mE-YNb",
        "outputId": "5c9a4e04-def1-4c1a-ece9-0a67579461bf"
      },
      "execution_count": 13,
      "outputs": [
        {
          "output_type": "stream",
          "name": "stdout",
          "text": [
            "5\n"
          ]
        }
      ]
    },
    {
      "cell_type": "code",
      "source": [
        "#14.  Write a code to find the index of the element \"cat\" in the tuple ('dog', 'cat', 'rabbit').\n",
        "# Using index() method to get the position of 'cat'\n",
        "animals = ('dog', 'cat', 'rabbit')\n",
        "cat_index = animals.index(\"cat\")\n",
        "print(cat_index)\n"
      ],
      "metadata": {
        "colab": {
          "base_uri": "https://localhost:8080/"
        },
        "id": "_j8lHY4t-mj3",
        "outputId": "8eff7fd8-bdec-498c-85ef-cbba7ef4ad46"
      },
      "execution_count": 14,
      "outputs": [
        {
          "output_type": "stream",
          "name": "stdout",
          "text": [
            "1\n"
          ]
        }
      ]
    },
    {
      "cell_type": "code",
      "source": [
        "#15.  Write a code to create a tuple containing three different fruits and check if \"kiwi\" is in it.\n",
        "# Checking membership using 'in' keyword\n",
        "fruits = (\"apple\", \"banana\", \"mango\")\n",
        "print(\"kiwi\" in fruits)\n"
      ],
      "metadata": {
        "colab": {
          "base_uri": "https://localhost:8080/"
        },
        "id": "r7zBOrjp-1qK",
        "outputId": "9f074d6a-ee34-4d8c-ca49-efe49a71a9c0"
      },
      "execution_count": 15,
      "outputs": [
        {
          "output_type": "stream",
          "name": "stdout",
          "text": [
            "False\n"
          ]
        }
      ]
    },
    {
      "cell_type": "code",
      "source": [
        "#16. Write a code to create a set with the elements 'a', 'b', 'c' and print it.\n",
        "# Creating a set using curly braces\n",
        "my_set = {'a', 'b', 'c'}\n",
        "print(my_set)\n"
      ],
      "metadata": {
        "colab": {
          "base_uri": "https://localhost:8080/"
        },
        "id": "gL8l23Qd_CBh",
        "outputId": "be74ef0d-1148-448b-ea70-a683f3449018"
      },
      "execution_count": 16,
      "outputs": [
        {
          "output_type": "stream",
          "name": "stdout",
          "text": [
            "{'b', 'a', 'c'}\n"
          ]
        }
      ]
    },
    {
      "cell_type": "code",
      "source": [
        "#17. Write a code to clear all elements from the set {1, 2, 3, 4, 5}.\n",
        "# Clearing all items from the set\n",
        "numbers = {1, 2, 3, 4, 5}\n",
        "numbers.clear()\n",
        "print(numbers)\n"
      ],
      "metadata": {
        "colab": {
          "base_uri": "https://localhost:8080/"
        },
        "id": "71ZJBiD9_Q69",
        "outputId": "8ad34539-a113-4a2f-dbec-2fed5697bee5"
      },
      "execution_count": 17,
      "outputs": [
        {
          "output_type": "stream",
          "name": "stdout",
          "text": [
            "set()\n"
          ]
        }
      ]
    },
    {
      "cell_type": "code",
      "source": [
        "#18. Write a code to remove the element 4 from the set {1, 2, 3, 4}.\n",
        "# Removing the element 4 from the set\n",
        "numbers = {1, 2, 3, 4}\n",
        "numbers.remove(4)\n",
        "print(numbers)\n"
      ],
      "metadata": {
        "colab": {
          "base_uri": "https://localhost:8080/"
        },
        "id": "xxR11_kA_idR",
        "outputId": "e090ebd7-9648-452d-eda7-02bd68dc03d8"
      },
      "execution_count": 18,
      "outputs": [
        {
          "output_type": "stream",
          "name": "stdout",
          "text": [
            "{1, 2, 3}\n"
          ]
        }
      ]
    },
    {
      "cell_type": "code",
      "source": [
        "#19. Write a code to find the union of two sets {1, 2, 3} and {3, 4, 5}.\n",
        "# Combining two sets without duplicates\n",
        "set1 = {1, 2, 3}\n",
        "set2 = {3, 4, 5}\n",
        "result = set1.union(set2)\n",
        "print(result)\n"
      ],
      "metadata": {
        "colab": {
          "base_uri": "https://localhost:8080/"
        },
        "id": "-myl5CKS_ugC",
        "outputId": "87d07c2b-a531-4e51-bdea-b86f9b42faed"
      },
      "execution_count": 19,
      "outputs": [
        {
          "output_type": "stream",
          "name": "stdout",
          "text": [
            "{1, 2, 3, 4, 5}\n"
          ]
        }
      ]
    },
    {
      "cell_type": "code",
      "source": [
        "#20. Write a code to find the intersection of two sets {1, 2, 3} and {2, 3, 4}.\n",
        "# Getting common elements between both sets\n",
        "set1 = {1, 2, 3}\n",
        "set2 = {2, 3, 4}\n",
        "result = set1.intersection(set2)\n",
        "print(result)\n"
      ],
      "metadata": {
        "colab": {
          "base_uri": "https://localhost:8080/"
        },
        "id": "Jcioxp_K_9qy",
        "outputId": "766fbce4-9dc1-4fc2-904a-2ecef5d02eaa"
      },
      "execution_count": 20,
      "outputs": [
        {
          "output_type": "stream",
          "name": "stdout",
          "text": [
            "{2, 3}\n"
          ]
        }
      ]
    },
    {
      "cell_type": "code",
      "source": [
        "#21. Write a code to create a dictionary with the keys \"name\", \"age\", and \"city\", and print it.\n",
        "# Creating a dictionary with key-value pairs\n",
        "person = {\"name\": \"Nithin\", \"age\": 18, \"city\": \"Hyderabad\"}\n",
        "print(person)\n"
      ],
      "metadata": {
        "colab": {
          "base_uri": "https://localhost:8080/"
        },
        "id": "JwQqBJG8ALaE",
        "outputId": "190972f3-69b1-4074-c558-4cec0781af3b"
      },
      "execution_count": 22,
      "outputs": [
        {
          "output_type": "stream",
          "name": "stdout",
          "text": [
            "{'name': 'Nithin', 'age': 18, 'city': 'Hyderabad'}\n"
          ]
        }
      ]
    },
    {
      "cell_type": "code",
      "source": [
        "#22. Write a code to add a new key-value pair \"country\": \"USA\" to the dictionary {'name': 'John', 'age': 25}.\n",
        "# Adding a new key-value pair to the dictionary\n",
        "person = {'name': 'John', 'age': 25}\n",
        "person[\"country\"] = \"USA\"\n",
        "print(person)\n"
      ],
      "metadata": {
        "colab": {
          "base_uri": "https://localhost:8080/"
        },
        "id": "QDAAcNAhAjoB",
        "outputId": "52b63e84-b048-4fd0-c6f6-ebd99eb94ad9"
      },
      "execution_count": 23,
      "outputs": [
        {
          "output_type": "stream",
          "name": "stdout",
          "text": [
            "{'name': 'John', 'age': 25, 'country': 'USA'}\n"
          ]
        }
      ]
    },
    {
      "cell_type": "code",
      "source": [
        "#23. Write a code to access the value associated with the key \"name\" in the dictionary {'name': 'Alice', 'age': 30}.\n",
        "# Accessing the value for the key 'name'\n",
        "person = {'name': 'Alice', 'age': 30}\n",
        "print(person[\"name\"])\n"
      ],
      "metadata": {
        "colab": {
          "base_uri": "https://localhost:8080/"
        },
        "id": "VBiWkb3NAzIl",
        "outputId": "3088fd11-22a3-44c9-cd03-1b86295469bf"
      },
      "execution_count": 24,
      "outputs": [
        {
          "output_type": "stream",
          "name": "stdout",
          "text": [
            "Alice\n"
          ]
        }
      ]
    },
    {
      "cell_type": "code",
      "source": [
        " #24. Write a code to remove the key \"age\" from the dictionary {'name': 'Bob', 'age': 22, 'city': 'New York'}.\n",
        " # Removing the key 'age' using del\n",
        "person = {'name': 'Bob', 'age': 22, 'city': 'New York'}\n",
        "del person[\"age\"]\n",
        "print(person)\n",
        "\n"
      ],
      "metadata": {
        "colab": {
          "base_uri": "https://localhost:8080/"
        },
        "id": "SWU1rAMLA-LY",
        "outputId": "12a18713-0b9f-43a3-f317-68bfde6d5a2f"
      },
      "execution_count": 25,
      "outputs": [
        {
          "output_type": "stream",
          "name": "stdout",
          "text": [
            "{'name': 'Bob', 'city': 'New York'}\n"
          ]
        }
      ]
    },
    {
      "cell_type": "code",
      "source": [
        "#25. Write a code to check if the key \"city\" exists in the dictionary {'name': 'Alice', 'city': 'Paris'}.\n",
        "# Checking if 'city' is a key in the dictionary\n",
        "person = {'name': 'Alice', 'city': 'Paris'}\n",
        "print(\"city\" in person)\n"
      ],
      "metadata": {
        "colab": {
          "base_uri": "https://localhost:8080/"
        },
        "id": "TCequynIBLfL",
        "outputId": "6a7d448d-e2a7-4065-fe73-73d98c85f96e"
      },
      "execution_count": 31,
      "outputs": [
        {
          "output_type": "stream",
          "name": "stdout",
          "text": [
            "True\n"
          ]
        }
      ]
    },
    {
      "cell_type": "code",
      "source": [
        "#26. Write a code to create a list, a tuple, and a dictionary, and print them all.\n",
        "# Creating different data types\n",
        "my_list = [1, 2, 3]\n",
        "my_tuple = (4, 5, 6)\n",
        "my_dict = {\"a\": 1, \"b\": 2}\n",
        "\n",
        "# Printing all of them\n",
        "print(my_list)\n",
        "print(my_tuple)\n",
        "print(my_dict)\n"
      ],
      "metadata": {
        "colab": {
          "base_uri": "https://localhost:8080/"
        },
        "id": "AhHKwTrIB2JL",
        "outputId": "97c577d2-a19b-4f0e-86a4-69b162a1136f"
      },
      "execution_count": 32,
      "outputs": [
        {
          "output_type": "stream",
          "name": "stdout",
          "text": [
            "[1, 2, 3]\n",
            "(4, 5, 6)\n",
            "{'a': 1, 'b': 2}\n"
          ]
        }
      ]
    },
    {
      "cell_type": "code",
      "source": [
        "#27. Write a code to create a list of 5 random numbers between 1 and 100, sort it in ascending order, and print the result.(replaced).\n",
        "import random\n",
        "# Generating 5 unique random numbers between 1 and 100\n",
        "numbers = random.sample(range(1, 101), 5)\n",
        "# Sorting numbers in ascending order\n",
        "numbers.sort()\n",
        "print(numbers)\n"
      ],
      "metadata": {
        "colab": {
          "base_uri": "https://localhost:8080/"
        },
        "id": "BVZqHsmxCCpl",
        "outputId": "efcacc8b-dbaf-40c1-bc51-d1f5f9bd0508"
      },
      "execution_count": 33,
      "outputs": [
        {
          "output_type": "stream",
          "name": "stdout",
          "text": [
            "[26, 37, 42, 57, 69]\n"
          ]
        }
      ]
    },
    {
      "cell_type": "code",
      "source": [
        "#28. Write a code to create a list with strings and print the element at the third index.\n",
        "# Accessing the string at index 3\n",
        "words = [\"apple\", \"banana\", \"cherry\", \"date\", \"fig\"]\n",
        "print(words[3])\n"
      ],
      "metadata": {
        "colab": {
          "base_uri": "https://localhost:8080/"
        },
        "id": "bz9qZdXXCjrZ",
        "outputId": "05ebe0a0-7d79-43af-e098-16c6c1fb86a6"
      },
      "execution_count": 34,
      "outputs": [
        {
          "output_type": "stream",
          "name": "stdout",
          "text": [
            "date\n"
          ]
        }
      ]
    },
    {
      "cell_type": "code",
      "source": [
        "#29. Write a code to combine two dictionaries into one and print the result.\n",
        "# Merging two dictionaries using unpacking\n",
        "dict1 = {\"a\": 1, \"b\": 2}\n",
        "dict2 = {\"c\": 3, \"d\": 4}\n",
        "combined = {**dict1, **dict2}\n",
        "print(combined)\n"
      ],
      "metadata": {
        "colab": {
          "base_uri": "https://localhost:8080/"
        },
        "id": "HNLGhPRCCxkf",
        "outputId": "f8c4300e-220b-4ac5-ad15-2f90bfdb613f"
      },
      "execution_count": 35,
      "outputs": [
        {
          "output_type": "stream",
          "name": "stdout",
          "text": [
            "{'a': 1, 'b': 2, 'c': 3, 'd': 4}\n"
          ]
        }
      ]
    },
    {
      "cell_type": "code",
      "source": [
        "#30.  Write a code to convert a list of strings into a set.\n",
        "# Converting list to set to remove duplicates\n",
        "words = [\"apple\", \"banana\", \"cherry\", \"apple\"]\n",
        "word_set = set(words)\n",
        "print(word_set)\n"
      ],
      "metadata": {
        "colab": {
          "base_uri": "https://localhost:8080/"
        },
        "id": "x8klWGNQDATS",
        "outputId": "78454a4c-9ec5-4ff3-b7b8-cc39abd3dda0"
      },
      "execution_count": 36,
      "outputs": [
        {
          "output_type": "stream",
          "name": "stdout",
          "text": [
            "{'apple', 'banana', 'cherry'}\n"
          ]
        }
      ]
    }
  ]
}